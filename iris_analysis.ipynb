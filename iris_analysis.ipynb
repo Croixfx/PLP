# Task 1: Load and Explore the Dataset
import pandas as pd
import numpy as np
import matplotlib.pyplot as plt
import seaborn as sns
from sklearn.datasets import load_iris

# Load dataset
iris = load_iris(as_frame=True)
df = iris.frame

# Add species names as a categorical column
df['species'] = df['target'].map(dict(zip(range(3), iris.target_names)))

# Display first few rows
print(df.head())

# Check data types and missing values
print(df.info())
print(df.isnull().sum())

# Clean the dataset (drop missing values if any)
df_cleaned = df.dropna()

# Task 2: Basic Data Analysis
print(df_cleaned.describe())

# Group by species and compute mean petal length
grouped = df_cleaned.groupby('species')['petal length (cm)'].mean()
print(grouped)

# Task 3: Data Visualization

# 1. Line chart
plt.figure(figsize=(8, 4))
plt.plot(df_cleaned['petal length (cm)'], label='Petal Length')
plt.plot(df_cleaned['sepal length (cm)'], label='Sepal Length')
plt.title("Petal and Sepal Length Trends")
plt.xlabel("Sample Index")
plt.ylabel("Length (cm)")
plt.legend()
plt.tight_layout()
plt.show()

# 2. Bar chart
plt.figure(figsize=(6, 4))
sns.barplot(data=df_cleaned, x="species", y="petal length (cm)", estimator=np.mean, ci=None)
plt.title("Average Petal Length per Species")
plt.xlabel("Species")
plt.ylabel("Petal Length (cm)")
plt.tight_layout()
plt.show()

# 3. Histogram
plt.figure(figsize=(6, 4))
plt.hist(df_cleaned["petal width (cm)"], bins=10, color="skyblue", edgecolor="black")
plt.title("Distribution of Petal Width")
plt.xlabel("Petal Width (cm)")
plt.ylabel("Frequency")
plt.tight_layout()
plt.show()

# 4. Scatter plot
plt.figure(figsize=(6, 4))
sns.scatterplot(data=df_cleaned, x="sepal length (cm)", y="petal length (cm)", hue="species")
plt.title("Sepal vs Petal Length")
plt.xlabel("Sepal Length (cm)")
plt.ylabel("Petal Length (cm)")
plt.tight_layout()
plt.show()
